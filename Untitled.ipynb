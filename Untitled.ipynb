{
 "cells": [
  {
   "cell_type": "code",
   "execution_count": null,
   "metadata": {},
   "outputs": [],
   "source": [
    "from task1_Step1 import price\n",
    "import datetime\n",
    "import matplotlib.pyplot as plt\n",
    "\n",
    "x=[0]\n",
    "y=[0]\n",
    "fig = plt.gcf()\n",
    "fig.show()\n",
    "fig.canvas.draw()\n",
    "plt.ylim([0, 20000])\n",
    "i=0\n",
    "while(True):\n",
    "    data = price('BTC')\n",
    "    i+=1\n",
    "    x.append(i)\n",
    "    y.append(data['USD'])\n",
    "    plt.title(\"BTC Vs USD. Last updated at: \"+str(datetime.datetime()))\n",
    "    plt.showgrid()\n",
    "    plt.plot(x,y)\n",
    "\n",
    "\n",
    "    fig.canvas.draw()\n",
    "    plt.pause(1000)\n"
   ]
  },
  {
   "cell_type": "code",
   "execution_count": null,
   "metadata": {
    "collapsed": true
   },
   "outputs": [],
   "source": []
  }
 ],
 "metadata": {
  "kernelspec": {
   "display_name": "Python 3",
   "language": "python",
   "name": "python3"
  },
  "language_info": {
   "codemirror_mode": {
    "name": "ipython",
    "version": 3
   },
   "file_extension": ".py",
   "mimetype": "text/x-python",
   "name": "python",
   "nbconvert_exporter": "python",
   "pygments_lexer": "ipython3",
   "version": "3.6.3"
  }
 },
 "nbformat": 4,
 "nbformat_minor": 2
}
