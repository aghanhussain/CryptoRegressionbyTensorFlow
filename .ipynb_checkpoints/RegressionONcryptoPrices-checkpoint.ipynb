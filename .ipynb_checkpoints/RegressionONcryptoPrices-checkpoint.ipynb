{
 "cells": [
  {
   "cell_type": "code",
   "execution_count": 1,
   "metadata": {},
   "outputs": [
    {
     "name": "stdout",
     "output_type": "stream",
     "text": [
      "Beta =  0.062042\n"
     ]
    },
    {
     "data": {
      "image/png": "[encoded data removed]",
      "text/plain": [
       "<matplotlib.figure.Figure at 0x1ef76358c88>"
      ]
     },
     "metadata": {},
     "output_type": "display_data"
    }
   ],
   "source": [
    "import requests\n",
    "import datetime\n",
    "import pandas as pd\n",
    "import matplotlib.pyplot as plt\n",
    "import tensorflow as tf\n",
    "\n",
    "def daily_price_historical(symbol, comparison_symbol, all_data=True, limit=1, aggregate=1, exchange=''):\n",
    "    url = 'https://min-api.cryptocompare.com/data/histoday?fsym={}&tsym={}&limit={}&aggregate={}'\\\n",
    "            .format(symbol.upper(), comparison_symbol.upper(), limit, aggregate)\n",
    "    if exchange:\n",
    "        url += '&e={}'.format(exchange)\n",
    "    if all_data:\n",
    "        url += '&allData=true'\n",
    "    page = requests.get(url)\n",
    "    data = page.json()['Data']\n",
    "    df = pd.DataFrame(data)\n",
    "    df['timestamp'] = [datetime.datetime.fromtimestamp(d) for d in df.time]\n",
    "    return df\n",
    "\n",
    "\n",
    "def load_data():\n",
    "    #Get daily price data for January only\n",
    "    df = daily_price_historical('BTC','USD')\n",
    "    mask = (df['timestamp'] >= '2018-01-01') & (df['timestamp'] <= '2018-01-31')\n",
    "    df = df.loc[mask]\n",
    "\n",
    "    #calculate the return\n",
    "    y_train=(df['close']-df['open'])*100/(df['open'])\n",
    "\n",
    "\n",
    "    df = pd.read_csv('index.csv')\n",
    "    mask = (df['Date'] >= '2018-01-01') & (df['Date'] <= '2018-01-31')\n",
    "    df = df.loc[mask]\n",
    "    x_train = (df['Close']-df['Open'])*100/(df['Open'])\n",
    "    #print((x_train))\n",
    "    #print(y_train)\n",
    "    return x_train,y_train\n",
    "\n",
    "\n",
    "def model(X, w1,w2):\n",
    "    return tf.add(tf.multiply(X, w1),w2)\n",
    "\n",
    "def regress_tensorflow(x_train,y_train):\n",
    "    learning_rate = 0.000001\n",
    "    training_epochs = 1000\n",
    "    X = tf.placeholder(tf.float32)\n",
    "    Y = tf.placeholder(tf.float32)\n",
    "\n",
    "\n",
    "    w1 = tf.Variable(0.0, name=\"weight1\")\n",
    "    w2 = tf.Variable(0.0, name=\"weight2\")\n",
    "\n",
    "    y_model = model(X, w1,w2)\n",
    "\n",
    "    cost = tf.square(Y-y_model)\n",
    "    train_op = tf.train.GradientDescentOptimizer(learning_rate).minimize(cost)\n",
    "    sess = tf.Session()\n",
    "    init = tf.global_variables_initializer()\n",
    "    sess.run(init)\n",
    "    for epoch in range(training_epochs):\n",
    "        for (x, y) in zip(x_train, y_train):\n",
    "            sess.run(train_op, feed_dict={X: x, Y: y})\n",
    "\n",
    "    w_val1 = sess.run(w1)\n",
    "    w_val2 = sess.run(w2)\n",
    "    print(\"Beta = \",w_val1)\n",
    "    sess.close()\n",
    "    plt.scatter(x_train, y_train)\n",
    "    y_learned = x_train*w_val1+w_val2\n",
    "    plt.plot(x_train, y_learned, 'r')\n",
    "    plt.show()\n",
    "\n",
    "\n",
    "def regressStatsModel(x_train,y_train):\n",
    "    import statsmodels.api as sm\n",
    "    model = sm.OLS(y_train, x_train)\n",
    "    results = model.fit()\n",
    "    print(results.params)\n",
    "\n",
    "\n",
    "def regressSKLearn(x_train,y_train):\n",
    "    from sklearn import datasets, linear_model\n",
    "    from sklearn.metrics import mean_squared_error, r2_score\n",
    "\n",
    "    regr = linear_model.LinearRegression()\n",
    "\n",
    "    # Train the model using the training sets\n",
    "\n",
    "    regr.fit(x_train.reshape(-1,1),y_train.reshape(-1,1))\n",
    "    print('Coefficients: \\n', regr.coef_)\n",
    "\n",
    "\n",
    "\n",
    "regress_tensorflow(*load_data())\n",
    "#regressSKLearn(*load_data())"
   ]
  },
  {
   "cell_type": "code",
   "execution_count": 2,
   "metadata": {},
   "outputs": [
    {
     "name": "stdout",
     "output_type": "stream",
     "text": [
      "[2]\n"
     ]
    }
   ],
   "source": [
    "a=[]\n",
    "a.append(2)\n",
    "\n",
    "print(a)"
   ]
  },
  {
   "cell_type": "code",
   "execution_count": null,
   "metadata": {
    "collapsed": true
   },
   "outputs": [],
   "source": []
  }
 ],
 "metadata": {
  "kernelspec": {
   "display_name": "Python 3",
   "language": "python",
   "name": "python3"
  },
  "language_info": {
   "codemirror_mode": {
    "name": "ipython",
    "version": 3
   },
   "file_extension": ".py",
   "mimetype": "text/x-python",
   "name": "python",
   "nbconvert_exporter": "python",
   "pygments_lexer": "ipython3",
   "version": "3.6.3"
  }
 },
 "nbformat": 4,
 "nbformat_minor": 2
}
